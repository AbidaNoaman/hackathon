{
 "cells": [
  {
   "cell_type": "code",
   "execution_count": 1,
   "id": "9ce57088",
   "metadata": {},
   "outputs": [],
   "source": [
    "import os, openai"
   ]
  },
  {
   "cell_type": "code",
   "execution_count": 2,
   "id": "a5558463",
   "metadata": {},
   "outputs": [],
   "source": [
    "os.environ['OPENAI_API_KEY'] = \"\"\n",
    "openai.api_key = os.getenv(\"OPENAI_API_KEY\")"
   ]
  },
  {
   "cell_type": "code",
   "execution_count": null,
   "id": "7039e277",
   "metadata": {},
   "outputs": [],
   "source": [
    "\n",
    "text = input(\"Enter the Text: \")\n",
    "\n",
    "print(\"\\n\\n\")\n",
    "instructions = \"\"\"You are an exceptional emotion detector and your task is to find emotions present in the given text that is written in a double quotes. You are only allowed to handle the English text and if the text is written in language other than english then simply reply with \"Sorry I am unable to understand this text please type in English\". Multiple emotions can be found in the text, you can return maximum of 4 emotions while the emotion labels are [Joy, Sadness, Anger, Love, Fear, Disgust, Surprise, Trust, Anticipation, Optimissm, Passimism, Love and Neutral (neutral means no emotions)] \"\"\"\n",
    "inputt = f\"\"\"\\n\\n---------------\n",
    "Text: \"{text}\"\n",
    "---------------\\n\\n\"\"\"\n",
    "\n",
    "output = \"\"\"The Output must be in the form of a list, and each emotion is a single list item\"\"\"\n",
    "\n",
    "\n",
    "prompt = f'{instructions} {inputt} {output}'\n",
    "print(prompt)"
   ]
  },
  {
   "cell_type": "code",
   "execution_count": null,
   "id": "436ac123",
   "metadata": {},
   "outputs": [],
   "source": [
    "from openai import OpenAI\n",
    "client = OpenAI()\n",
    "\n",
    "completion = client.chat.completions.create(\n",
    "  model=\"gpt-3.5-turbo\",\n",
    "  messages=[\n",
    "    {\"role\": \"user\", \"content\": prompt}\n",
    "  ],\n",
    ")\n",
    "\n",
    "print(completion.choices[0].message.content)\n"
   ]
  },
  {
   "cell_type": "code",
   "execution_count": null,
   "id": "51d61388",
   "metadata": {},
   "outputs": [],
   "source": [
    "# English text"
   ]
  },
  {
   "cell_type": "code",
   "execution_count": null,
   "id": "954609f2",
   "metadata": {},
   "outputs": [],
   "source": [
    "\n",
    "text = input(\"Enter the Text: \")\n",
    "\n",
    "print(\"\\n\\n\")\n",
    "\n",
    "instructions = \"\"\"You are an exceptional emotion detector and your task is to find emotions present in the given text that is written in a double quotes. You are only allowed to handle the English text and if the text is written in language other than english then simply reply with \"Sorry I am unable to understand this text please type in English\". Multiple emotions can be found in the text, you can return maximum of 4 emotions while the emotion labels are [Joy, Sadness, Anger, Love, Fear, Disgust, Surprise, Trust, Anticipation, Optimissm, Passimism, Love and Neutral (neutral means no emotions)] \"\"\"\n",
    "\n",
    "\n",
    "inputt = f\"\"\"\\n\\n---------------\n",
    "Text: \"{text}\"\n",
    "---------------\\n\\n\"\"\"\n",
    "\n",
    "output = \"\"\"The Output must be in the form of a list, and each emotion is a single list item\"\"\"\n",
    "\n",
    "\n",
    "prompt = f'{instructions} {inputt} {output}'\n",
    "print(prompt)"
   ]
  },
  {
   "cell_type": "code",
   "execution_count": null,
   "id": "9a61eb42",
   "metadata": {},
   "outputs": [],
   "source": [
    "from openai import OpenAI\n",
    "client = OpenAI()\n",
    "\n",
    "completion = client.chat.completions.create(\n",
    "  model=\"gpt-3.5-turbo\",\n",
    "  messages=[\n",
    "    {\"role\": \"user\", \"content\": prompt}\n",
    "  ],\n",
    ")\n",
    "\n",
    "print(completion.choices[0].message.content)\n"
   ]
  },
  {
   "cell_type": "code",
   "execution_count": null,
   "id": "6602f94f",
   "metadata": {},
   "outputs": [],
   "source": []
  }
 ],
 "metadata": {
  "kernelspec": {
   "display_name": "Python 3 (ipykernel)",
   "language": "python",
   "name": "python3"
  },
  "language_info": {
   "codemirror_mode": {
    "name": "ipython",
    "version": 3
   },
   "file_extension": ".py",
   "mimetype": "text/x-python",
   "name": "python",
   "nbconvert_exporter": "python",
   "pygments_lexer": "ipython3",
   "version": "3.11.4"
  }
 },
 "nbformat": 4,
 "nbformat_minor": 5
}
